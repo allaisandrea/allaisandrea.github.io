{
 "cells": [
  {
   "cell_type": "code",
   "execution_count": 1,
   "id": "b0e0b23f",
   "metadata": {},
   "outputs": [],
   "source": [
    "import numpy as np\n",
    "import diffusion\n",
    "import importlib\n",
    "import matplotlib.pyplot as plt\n",
    "import scipy.stats"
   ]
  },
  {
   "cell_type": "code",
   "execution_count": null,
   "id": "58a92908",
   "metadata": {},
   "outputs": [],
   "source": [
    "diffusion = importlib.reload(diffusion)\n",
    "rng = np.random.default_rng(0)\n",
    "shape = (2, 3, 4)\n",
    "x = rng.normal(size=shape)\n",
    "mean = rng.normal(size=shape)\n",
    "var = np.exp(rng.normal(size=shape))\n",
    "log_p, score = diffusion.compute_normal_log_p_and_score(x, mean, var)\n",
    "assert log_p.shape == shape, log_p.shape\n",
    "assert score.shape == shape, score.shape\n",
    "\n",
    "log_p, score = diffusion.compute_mixture_log_p_and_score(log_p, score)\n",
    "assert log_p.shape == shape[:-1], log_p.shape\n",
    "assert score.shape == shape[:-1], score.shape\n"
   ]
  },
  {
   "cell_type": "code",
   "execution_count": null,
   "id": "a701f1f6",
   "metadata": {},
   "outputs": [],
   "source": [
    "diffusion = importlib.reload(diffusion)\n",
    "shape = (2, 3)\n",
    "mean1, var1, log_evidence1 = diffusion.compute_normal_posterior_and_evidence(\n",
    "    mean0=rng.normal(size=shape),\n",
    "    var0=np.exp(rng.normal(size=shape)),\n",
    "    x=rng.normal(size=shape),\n",
    "    var=np.exp(rng.normal(size=shape)),\n",
    ")\n",
    "assert mean1.shape == shape\n",
    "assert var1.shape == shape\n",
    "assert log_evidence1.shape == shape"
   ]
  },
  {
   "cell_type": "code",
   "execution_count": null,
   "id": "7cff827b",
   "metadata": {},
   "outputs": [],
   "source": [
    "diffusion = importlib.reload(diffusion)\n",
    "rng = np.random.default_rng(0)\n",
    "\n",
    "noise_schedule = diffusion.LinearNoiseSchedule()\n",
    "x_0 = np.array([-1.0, 0.0, 1.0])\n",
    "nt = 10\n",
    "trajectory_t, trajectory_x = noise_schedule.sample_diffusion_trajectory(x_0, nt, rng)\n",
    "assert trajectory_t.shape == (nt + 1,)\n",
    "assert trajectory_x.shape == (nt + 1, len(x_0))\n",
    "\n",
    "mixture = diffusion.GaussianMixture(\n",
    "    means=np.array([-1.0, 0.0, 1.0]),\n",
    "    stddevs=np.array([0.1, 0.2, 0.3]),\n",
    "    weights=np.array([0.8, 0.7, 0.6]),\n",
    ")\n",
    "\n",
    "interpolant = diffusion.GaussianMixtureInterpolant(\n",
    "    noise_schedule=noise_schedule,\n",
    "    x0_distr=mixture,\n",
    ")\n",
    "\n",
    "n_particles = 7\n",
    "t = rng.uniform(size=n_particles)\n",
    "x = rng.normal(size=n_particles)\n",
    "log_p, score = interpolant.compute_log_pdf_and_score(t, x)\n",
    "assert log_p.shape == (n_particles,)\n",
    "assert score.shape == (n_particles,)\n",
    "\n",
    "n_sample = 10\n",
    "x0 = interpolant.sample_x0_given_xt(rng, n_sample, t, x)\n",
    "assert x0.shape == (n_particles, n_sample), x0.shape\n",
    "\n",
    "n_particles = 7\n",
    "n_t = 10\n",
    "trajectory_t, trajectory_x = interpolant.compute_probability_flow_trajectory(\n",
    "    x_1=rng.normal(size=n_particles),\n",
    "    nt=n_t,\n",
    ")\n",
    "assert trajectory_t.shape == (n_t + 1,)\n",
    "assert trajectory_x.shape == (n_t + 1, n_particles)\n"
   ]
  },
  {
   "cell_type": "code",
   "execution_count": null,
   "id": "c7b987f1",
   "metadata": {},
   "outputs": [],
   "source": [
    "\n",
    "diffusion = importlib.reload(diffusion)\n",
    "rng = np.random.default_rng(0)\n",
    "noise_schedule = diffusion.CosineNoiseSchedule()\n",
    "mixture = diffusion.GaussianMixture(\n",
    "    means=np.array([-1.0, 2.0]),\n",
    "    stddevs=np.array([0.1, 0.1]),\n",
    "    weights=np.array([0.8, 0.2]),\n",
    ")\n",
    "interpolant = diffusion.GaussianMixtureInterpolant(\n",
    "    noise_schedule=noise_schedule,\n",
    "    x0_distr=mixture,\n",
    ")\n",
    "template = diffusion.make_interpolant_plot_template(interpolant, x_range=(-3, 3))\n",
    "diffusion.plot_interpolant_pdf(template.interpolant_axes, interpolant, x_range=(-3, 3))\n",
    "# trajectory_t, trajectory_x = interpolant.sample_diffusion_trajectory(rng, 1000, 10)\n",
    "# template.interpolant_axes.plot(trajectory_t, trajectory_x, c='white', alpha=0.5, linewidth=0.5)\n",
    "x1 = scipy.stats.norm.ppf(np.linspace(0, 1, 26))\n",
    "trajectory_t, trajectory_x = interpolant.compute_probability_flow_trajectory(x1, 1000)\n",
    "template.interpolant_axes.plot(trajectory_t, trajectory_x, c='white', alpha=0.5, linewidth=0.5)\n",
    "\n",
    "plt.show(template.figure)"
   ]
  },
  {
   "cell_type": "code",
   "execution_count": null,
   "id": "fc487ebb",
   "metadata": {},
   "outputs": [],
   "source": [
    "diffusion = importlib.reload(diffusion)\n",
    "template = diffusion.plot_slope_distribution(0.1, None, None)\n",
    "plt.show(template.figure)"
   ]
  },
  {
   "cell_type": "code",
   "execution_count": null,
   "id": "393a3424",
   "metadata": {},
   "outputs": [],
   "source": [
    "diffusion = importlib.reload(diffusion)\n",
    "template = diffusion.plot_consistency_model_integration(None)\n",
    "plt.show(template.figure)"
   ]
  },
  {
   "cell_type": "code",
   "execution_count": null,
   "id": "7b967dcd",
   "metadata": {},
   "outputs": [],
   "source": [
    "diffusion = importlib.reload(diffusion)\n",
    "template = diffusion.plot_p_and_score(None)\n",
    "plt.show(template.figure)"
   ]
  }
 ],
 "metadata": {
  "kernelspec": {
   "display_name": ".venv",
   "language": "python",
   "name": "python3"
  },
  "language_info": {
   "codemirror_mode": {
    "name": "ipython",
    "version": 3
   },
   "file_extension": ".py",
   "mimetype": "text/x-python",
   "name": "python",
   "nbconvert_exporter": "python",
   "pygments_lexer": "ipython3",
   "version": "3.13.4"
  }
 },
 "nbformat": 4,
 "nbformat_minor": 5
}
