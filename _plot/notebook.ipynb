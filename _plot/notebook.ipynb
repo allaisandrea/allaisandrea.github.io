{
 "cells": [
  {
   "cell_type": "code",
   "execution_count": null,
   "id": "b0e0b23f",
   "metadata": {},
   "outputs": [],
   "source": [
    "%load_ext autoreload\n",
    "%autoreload 2\n",
    "import numpy as np\n",
    "import functools\n",
    "import diffusion\n",
    "import matplotlib.pyplot as plt"
   ]
  },
  {
   "cell_type": "code",
   "execution_count": null,
   "id": "ee8a6aa6",
   "metadata": {},
   "outputs": [],
   "source": [
    "figure = diffusion.plot_slope_distribution(output_path=None)\n",
    "plt.show(figure)\n",
    "plt.close(figure)"
   ]
  }
 ],
 "metadata": {
  "kernelspec": {
   "display_name": "code",
   "language": "python",
   "name": "python3"
  },
  "language_info": {
   "codemirror_mode": {
    "name": "ipython",
    "version": 3
   },
   "file_extension": ".py",
   "mimetype": "text/x-python",
   "name": "python",
   "nbconvert_exporter": "python",
   "pygments_lexer": "ipython3",
   "version": "3.13.2"
  }
 },
 "nbformat": 4,
 "nbformat_minor": 5
}
